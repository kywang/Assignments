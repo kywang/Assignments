{
 "cells": [
  {
   "cell_type": "markdown",
   "metadata": {
    "nbgrader": {
     "grade": false,
     "grade_id": "cell-70c15471327b6620",
     "locked": true,
     "schema_version": 1,
     "solution": false
    }
   },
   "source": [
    "# COGS 108 - Assignment 5: Natural Language Processing"
   ]
  },
  {
   "cell_type": "markdown",
   "metadata": {
    "nbgrader": {
     "grade": false,
     "grade_id": "cell-8499cb794c95ec9d",
     "locked": true,
     "schema_version": 1,
     "solution": false
    }
   },
   "source": [
    "# Important\n",
    "- Rename this file to 'A5_$####.ipynb', replacing with your unique ID (first letter of your last name, followed by the last 4 digits of your student ID number), before you submit it. Submit it to TritonED.\n",
    "- This assignment has hidden tests: tests that are not visible here, but that will be run on your submitted assignment for grading.\n",
    "    - This means passing all the tests you can see in the notebook here does not guarantee you have the right answer!\n",
    "    - In particular many of the tests you can see simply check that the right variable names exist. Hidden tests check the actual values. \n",
    "        - It is up to you to check the values, and make sure they seem reasonable.\n",
    "- A reminder to restart the kernel and re-run the code as a first line check if things seem to go weird.\n",
    "    - For example, note that some cells can only be run once, because they re-write a variable (for example, your dataframe), and change it in a way that means a second execution will fail. \n",
    "    - Also, running some cells out of order might change the dataframe in ways that may cause an error, which can be fixed by re-running."
   ]
  },
  {
   "cell_type": "markdown",
   "metadata": {
    "nbgrader": {
     "grade": false,
     "grade_id": "cell-6b464efd2fb5aabd",
     "locked": true,
     "schema_version": 1,
     "solution": false
    }
   },
   "source": [
    "# Background & Work Flow\n",
    "\n",
    "- In this homework assignment, we will be analyzing text data. A common approach to analyzing text data is to use methods that allow us to convert text data into some kind of numerical representation - since we can then use all of our mathematical tools on such data. In this assignment, we will explore 2 feature engineering methods that convert raw text data into numerical vectors:\n",
    "    - Bag of Words (BoW)\n",
    "        - BoW encodes an input sentence as the frequency of each word in the sentence. \n",
    "        - In this approach, all words contribute equally to the feature vectors.\n",
    "    - Term Frequency - Inverse Document Frequency (TF-IDF)\n",
    "        - TF-IDF is a measure of how important each term is to a specific document, as compared to an overall corpus. \n",
    "        - TF-IDF encodes a each word as the it's frequency in the document of interest, divided by a measure of how common the word is across all documents (the corpus).\n",
    "        - Using this approach each word contributes differently to the feature vectors.\n",
    "        - The assumption behind using TF-IDF is that words that appear commonly everywhere are not that informative about what is specifically interesting about a document of interest, so it is tuned to representing a document in terms of the words it uses that are different from other documents. \n",
    "\n",
    "- To compare those 2 methods, we will first apply them on the same Movie Review dataset to analyse sentiment (how positive or negative a text is). In order to make the comparison fair, the same SVM (support vector machine) classifier will be used to classify positive reviews and negative reviews.\n",
    "\n",
    "- SVM is a simple yet powerful and interpretable linear model. To use it as a classifier, we need to have at least 2 splits of the data: training data and test data. The training data is used to tune the weight parameters in the SVM to learn an optimal way to classify the training data. We can then test this trained SVM classifier on the test data, to see how well it works on data that the classifier has not seen before. "
   ]
  },
  {
   "cell_type": "code",
   "execution_count": 1,
   "metadata": {
    "nbgrader": {
     "grade": false,
     "grade_id": "Imports",
     "locked": true,
     "schema_version": 1,
     "solution": false
    }
   },
   "outputs": [],
   "source": [
    "# Imports - these are all the imports needed for the assignment\n",
    "%matplotlib inline\n",
    "\n",
    "import numpy as np\n",
    "import pandas as pd\n",
    "import matplotlib.pyplot as plt\n",
    "\n",
    "# Import nltk package \n",
    "#   PennTreeBank word tokenizer \n",
    "#   English language stopwords\n",
    "import nltk\n",
    "from nltk.tokenize import word_tokenize\n",
    "from nltk.corpus import stopwords\n",
    "\n",
    "# scikit-learn imports\n",
    "#   SVM (Support Vector Machine) classifer \n",
    "#   Vectorizer, which that transforms text data into bag-of-words feature\n",
    "#   TF-IDF Vectorizer that first removes widely used words in the dataset and then transforms test data\n",
    "#   Metrics functions to evaluate performance\n",
    "from sklearn.svm import SVC\n",
    "from sklearn.feature_extraction.text import CountVectorizer, TfidfVectorizer\n",
    "from sklearn.metrics import classification_report, precision_recall_fscore_support"
   ]
  },
  {
   "cell_type": "markdown",
   "metadata": {
    "nbgrader": {
     "grade": false,
     "grade_id": "cell-d96a6fcbdcbed177",
     "locked": true,
     "schema_version": 1,
     "solution": false
    }
   },
   "source": [
    "For this assignemnt we will be using nltk: the Natural Language Toolkit.\n",
    "\n",
    "To do so, we will need to download some text data.\n",
    "\n",
    "Natural language processing (NLP) often requires corpus data (lists of words, and or example text data) which is what we will download here now, if you don't already have them."
   ]
  },
  {
   "cell_type": "code",
   "execution_count": 2,
   "metadata": {},
   "outputs": [],
   "source": [
    "# In the cell below, we will download some files from nltk. \n",
    "#   If you hit an error doing so, come back to this cell, and uncomment and run the code below. \n",
    "#   This code gives python permission to write to your disk (if it doesn't already have persmission to do so)\n",
    "\n",
    "import ssl\n",
    "\n",
    "try:\n",
    "    _create_unverified_https_context = ssl._create_unverified_context\n",
    "except AttributeError:\n",
    "    pass\n",
    "else:\n",
    "    ssl._create_default_https_context = _create_unverified_https_context"
   ]
  },
  {
   "cell_type": "code",
   "execution_count": 3,
   "metadata": {
    "nbgrader": {
     "grade": false,
     "grade_id": "cell-04e576aebbcdfe34",
     "locked": true,
     "schema_version": 1,
     "solution": false
    }
   },
   "outputs": [
    {
     "name": "stdout",
     "output_type": "stream",
     "text": [
      "[nltk_data] Error loading punkt: HTTP Error 404: Not Found\n",
      "[nltk_data] Error loading stopwords: HTTP Error 404: Not Found\n"
     ]
    },
    {
     "data": {
      "text/plain": [
       "False"
      ]
     },
     "execution_count": 3,
     "metadata": {},
     "output_type": "execute_result"
    }
   ],
   "source": [
    "# Download the NLTK English tokenizer and the stopwords of all languages\n",
    "nltk.download('punkt')\n",
    "nltk.download('stopwords')"
   ]
  },
  {
   "cell_type": "markdown",
   "metadata": {
    "nbgrader": {
     "grade": false,
     "grade_id": "cell-c728326960d37d88",
     "locked": true,
     "schema_version": 1,
     "solution": false
    }
   },
   "source": [
    "# Part 1: Sentiment Analysis on Movie Review Data\n",
    "\n",
    "In part 1 we will apply sentiment analysis to Movie Review (MR) data.\n",
    "\n",
    "- The MR data contains more than 10,000 reviews collect from IMDB website, and each of the reviews is annotated as either positive or negative sample. The number of positive and negative reviews are roughly the same. For more information about the dataset, you can visit http://www.cs.cornell.edu/people/pabo/movie-review-data/\n",
    "\n",
    "- For this homework assignment, we've already shuffled the data, and truncated the data to contain only 5000 reviews.\n",
    "\n",
    "In this part of the assignment we will:\n",
    "- Transform the raw text data into vectors with the BoW encoding method\n",
    "- Split the data into training and test sets\n",
    "- Write a function to train an SVM classifier on the training set\n",
    "- Test this classifier on the test set and report the results"
   ]
  },
  {
   "cell_type": "code",
   "execution_count": null,
   "metadata": {
    "nbgrader": {
     "grade": false,
     "grade_id": "Q-1a",
     "locked": false,
     "schema_version": 1,
     "solution": true
    }
   },
   "outputs": [],
   "source": [
    "# 1a) Import data\n",
    "#  Import the textfile 'rt-polarity.txt' into a DataFrame called MR_df,\n",
    "#   Set the column names as 'index', 'label', 'review'\n",
    "# Note that 'rt-polarity.txt' is a tab separated raw text file, in which data is separated by tabs ('\\t')\n",
    "#   You can load this file with 'read_csv':\n",
    "#     Specifying the 'sep' (separator) argument as tabs ('\\t')\n",
    "#     You will have the set 'header' as None\n",
    "\n",
    "MR_filepath='data/rt-polarity.tsv'\n",
    "\n",
    "### BEGIN SOLUTION\n",
    "MR_df = pd.read_csv(MR_filepath, sep=\"\\t\", header=None)\n",
    "MR_df.columns = ['index', 'label', 'review']\n",
    "### END SOLUTION"
   ]
  },
  {
   "cell_type": "code",
   "execution_count": null,
   "metadata": {
    "nbgrader": {
     "grade": true,
     "grade_id": "A-1a",
     "locked": true,
     "points": 0.5,
     "schema_version": 1,
     "solution": false
    }
   },
   "outputs": [],
   "source": [
    "assert isinstance(MR_df, pd.DataFrame)\n",
    "\n",
    "### BEGIN HIDDEN TESTS\n",
    "assert len(MR_df) == 5000\n",
    "assert list(MR_df.columns) == ['index', 'label', 'review']\n",
    "### END HIDDEN TESTS"
   ]
  },
  {
   "cell_type": "code",
   "execution_count": null,
   "metadata": {
    "nbgrader": {
     "grade": false,
     "grade_id": "cell-40dae07b7eed27b1",
     "locked": true,
     "schema_version": 1,
     "solution": false
    }
   },
   "outputs": [],
   "source": [
    "# Check the data\n",
    "MR_df.head()"
   ]
  },
  {
   "cell_type": "code",
   "execution_count": null,
   "metadata": {
    "nbgrader": {
     "grade": false,
     "grade_id": "Q-1b",
     "locked": false,
     "schema_version": 1,
     "solution": true
    }
   },
   "outputs": [],
   "source": [
    "# 1b) Create a function that converts string labels to numerical labels\n",
    "#   Function name: convert_label\n",
    "#   The function should do the following:\n",
    "#     if the input label is \"pos\" return 1.0\n",
    "#     if the input label is \"neg\" return 0.0\n",
    "#     otherwise, return the input label as is\n",
    "\n",
    "def convert_label(label):\n",
    "### BEGIN SOLUTION\n",
    "    if label == \"pos\":\n",
    "        return 1.\n",
    "    elif label == \"neg\":\n",
    "        return 0.\n",
    "    else:\n",
    "        return label\n",
    "### END SOLUTION"
   ]
  },
  {
   "cell_type": "code",
   "execution_count": null,
   "metadata": {
    "nbgrader": {
     "grade": true,
     "grade_id": "A-1b",
     "locked": true,
     "points": 0.5,
     "schema_version": 1,
     "solution": false
    }
   },
   "outputs": [],
   "source": [
    "assert callable(convert_label)\n",
    "\n",
    "### BEGIN HIDDEN TESTS\n",
    "assert 1. == convert_label(\"pos\")\n",
    "assert 0. == convert_label(\"neg\")\n",
    "assert \"check\" == convert_label(\"check\")\n",
    "### END HIDDEN TESTS"
   ]
  },
  {
   "cell_type": "code",
   "execution_count": null,
   "metadata": {
    "nbgrader": {
     "grade": false,
     "grade_id": "Q-1c",
     "locked": false,
     "schema_version": 1,
     "solution": true
    }
   },
   "outputs": [],
   "source": [
    "# 1c) Convert all labels in MR_df[\"label\"] to numerical labels, using the 'convert_label' function\n",
    "#  Save them as a new column named \"y\" in MR_df\n",
    "\n",
    "### BEGIN SOLUTION\n",
    "MR_df['y'] = MR_df['label'].apply(convert_label)\n",
    "### END SOLUTION"
   ]
  },
  {
   "cell_type": "code",
   "execution_count": null,
   "metadata": {
    "nbgrader": {
     "grade": true,
     "grade_id": "A-1c",
     "locked": true,
     "points": 0.5,
     "schema_version": 1,
     "solution": false
    }
   },
   "outputs": [],
   "source": [
    "assert sorted(set(MR_df['y'])) == [0., 1.]\n",
    "\n",
    "### BEGIN HIDDEN TESTS\n",
    "assert (MR_df['y'] == 1.).sum() == 2510.\n",
    "assert (MR_df['y'] == 0.).sum() == 2490.\n",
    "### END HIDDEN TESTS"
   ]
  },
  {
   "cell_type": "code",
   "execution_count": null,
   "metadata": {
    "nbgrader": {
     "grade": false,
     "grade_id": "cell-cd37ee3f688aaaec",
     "locked": true,
     "schema_version": 1,
     "solution": false
    }
   },
   "outputs": [],
   "source": [
    "# Check the MR_df data\n",
    "MR_df.head()"
   ]
  },
  {
   "cell_type": "code",
   "execution_count": null,
   "metadata": {
    "nbgrader": {
     "grade": false,
     "grade_id": "Q-1d",
     "locked": false,
     "schema_version": 1,
     "solution": true
    }
   },
   "outputs": [],
   "source": [
    "# 1d) We will now create a \"CountVectorizer\" object to transform the text data into vectors with numerical values. \n",
    "#   To do so, we will initialize a \"CountVectorizer\" object, and name it as \"vectorizer\".\n",
    "\n",
    "# We need to pass 4 arguments to initialize a CountVectorizer:\n",
    "#   1. analyzer: 'word'\n",
    "#        Specify to analyze data from word-level\n",
    "#   2. max_features: 2000\n",
    "#        Set a max number of unique words\n",
    "#   3. tokenizer: word_tokenize\n",
    "#        Set to tokenize the text data by using the word_tokenizer from NLTK \n",
    "#   4. stop_words: stopwords.words('english')\n",
    "#        Set to remove all stopwords in English. \n",
    "#          We do this since they generally don't provide useful discriminative information.\n",
    "\n",
    "### BEGIN SOLUTION\n",
    "vectorizer = CountVectorizer(analyzer = \"word\",\n",
    "                             max_features=2000,\n",
    "                             tokenizer=word_tokenize,\n",
    "                             stop_words=stopwords.words(\"english\"))\n",
    "### END SOLUTION"
   ]
  },
  {
   "cell_type": "code",
   "execution_count": null,
   "metadata": {
    "nbgrader": {
     "grade": true,
     "grade_id": "A-1d",
     "locked": true,
     "points": 0.5,
     "schema_version": 1,
     "solution": false
    }
   },
   "outputs": [],
   "source": [
    "assert vectorizer.analyzer == 'word'\n",
    "assert vectorizer.max_features == 2000\n",
    "assert vectorizer.tokenizer == word_tokenize\n",
    "assert vectorizer.stop_words == stopwords.words('english')\n",
    "assert hasattr(vectorizer, \"fit_transform\")"
   ]
  },
  {
   "cell_type": "code",
   "execution_count": null,
   "metadata": {
    "nbgrader": {
     "grade": false,
     "grade_id": "Q-1e",
     "locked": false,
     "schema_version": 1,
     "solution": true
    }
   },
   "outputs": [],
   "source": [
    "# 1e) Transform reviews (MR_df[\"review\"]) into vectors using the \"vectorizer\" we created above:\n",
    "# The method you will be using is:\n",
    "#   MR_X = vectorizer.fit_transform(...).toarray()\n",
    "#   Note that we apply the 'toarray' method at the type cast the output to a numpy array. \n",
    "#     This is something we will do multiple times, to turn custom sklearn objects back into arrays. \n",
    "\n",
    "### BEGIN SOLUTION\n",
    "MR_X = vectorizer.fit_transform(MR_df['review']).toarray()\n",
    "### END SOLUTION"
   ]
  },
  {
   "cell_type": "code",
   "execution_count": null,
   "metadata": {
    "nbgrader": {
     "grade": true,
     "grade_id": "A-1e",
     "locked": true,
     "points": 0.5,
     "schema_version": 1,
     "solution": false
    }
   },
   "outputs": [],
   "source": [
    "assert type(MR_X) == np.ndarray\n",
    "\n",
    "### BEGIN HIDDEN TESTS\n",
    "assert MR_X.shape == (5000, 2000)\n",
    "### END HIDDEN TESTS"
   ]
  },
  {
   "cell_type": "code",
   "execution_count": null,
   "metadata": {
    "nbgrader": {
     "grade": false,
     "grade_id": "Q-1f",
     "locked": false,
     "schema_version": 1,
     "solution": true
    }
   },
   "outputs": [],
   "source": [
    "# 1f) Copy out \"y\" column in MR_df and save it as an np.ndarray named \"MR_y\"\n",
    "#   Make sure the shape of \"MR_y\" is (5000,) - you may have to use 'reshape' to do so. \n",
    "\n",
    "### BEGIN SOLUTION\n",
    "MR_y = np.array(MR_df['y'])\n",
    "### END SOLUTION"
   ]
  },
  {
   "cell_type": "code",
   "execution_count": null,
   "metadata": {
    "nbgrader": {
     "grade": true,
     "grade_id": "A-1f",
     "locked": true,
     "points": 0.5,
     "schema_version": 1,
     "solution": false
    }
   },
   "outputs": [],
   "source": [
    "assert MR_y.shape == (5000,)\n",
    "\n",
    "### BEGIN HIDDEN TESTS\n",
    "assert MR_X.shape[0] == MR_y.shape[0]\n",
    "### END HIDDEN TESTS"
   ]
  },
  {
   "cell_type": "code",
   "execution_count": null,
   "metadata": {
    "nbgrader": {
     "grade": false,
     "grade_id": "Q-1g",
     "locked": false,
     "schema_version": 1,
     "solution": true
    }
   },
   "outputs": [],
   "source": [
    "# 1g) Split up train and test sets\n",
    "#   We first set 80% of the data as the training set to train an SVM classifier. \n",
    "#   We will then test the learnt classifier on the rest 20% data samples.\n",
    "\n",
    "# Calculate the number of training data samples (80% of total) and store it in \"num_training\"\n",
    "# Calculate the number of test data samples (20% of total) and store it in \"num_testing\"\n",
    "# Make sure both of these variables are of type 'int'\n",
    "\n",
    "### BEGIN SOLUTION\n",
    "num_training = int(len(MR_df)*0.8)\n",
    "num_testing = len(MR_df)-num_training\n",
    "### END SOLUTION"
   ]
  },
  {
   "cell_type": "code",
   "execution_count": null,
   "metadata": {
    "nbgrader": {
     "grade": true,
     "grade_id": "A-1g",
     "locked": true,
     "points": 0.5,
     "schema_version": 1,
     "solution": false
    }
   },
   "outputs": [],
   "source": [
    "assert type(num_training) == int\n",
    "assert type(num_testing) == int\n",
    "\n",
    "### BEGIN HIDDEN TESTS\n",
    "assert num_training == 4000\n",
    "assert num_testing == 1000\n",
    "### END HIDDEN TESTS"
   ]
  },
  {
   "cell_type": "code",
   "execution_count": null,
   "metadata": {
    "nbgrader": {
     "grade": false,
     "grade_id": "Q-1h",
     "locked": false,
     "schema_version": 1,
     "solution": true
    }
   },
   "outputs": [],
   "source": [
    "# 1h) Split the \"MR_X\" and \"MR_y\" into training set and test set.\n",
    "#    You should use the 'num_training' variable to extract the data from MR_X and MR_y.\n",
    "#      Extract the first 'num_training' samples as training data, and extract the rest as test data.\n",
    "#  Name them as:\n",
    "#    \"MR_train_X\" and \"MR_train_y\" for the training set\n",
    "#    \"MR_test_X\" and \"MR_test_y\" for the test set\n",
    "\n",
    "### BEGIN SOLUTION\n",
    "MR_train_X = MR_X[:num_training]\n",
    "MR_train_y = MR_y[:num_training]\n",
    "MR_test_X = MR_X[num_training:]\n",
    "MR_test_y = MR_y[num_training:]\n",
    "### END SOLUTION"
   ]
  },
  {
   "cell_type": "code",
   "execution_count": null,
   "metadata": {
    "nbgrader": {
     "grade": true,
     "grade_id": "A-1h",
     "locked": true,
     "points": 0.5,
     "schema_version": 1,
     "solution": false
    }
   },
   "outputs": [],
   "source": [
    "assert MR_train_X.shape[0] == MR_train_y.shape[0]\n",
    "assert MR_test_X.shape[0] == MR_test_y.shape[0]\n",
    "\n",
    "assert len(MR_train_X) == 4000\n",
    "assert len(MR_test_y) == 1000"
   ]
  },
  {
   "cell_type": "code",
   "execution_count": null,
   "metadata": {
    "nbgrader": {
     "grade": false,
     "grade_id": "Q-1i",
     "locked": false,
     "schema_version": 1,
     "solution": true
    }
   },
   "outputs": [],
   "source": [
    "# 1i) Define a function called \"train_SVM\" that initializes an SVM classifier and trains it\n",
    "# \n",
    "# Inputs: \n",
    "#     X: np.ndarray, training samples, \n",
    "#     y: np.ndarray, training labels,\n",
    "#     kernel: string, set the default value of \"kernel\" as \"linear\"\n",
    "# Output:\n",
    "#     a trained classifier \"clf\"\n",
    "\n",
    "# Hint: There are 2 steps involved in this function:\n",
    "#     1) Initializing an SVM classifier: clf = SVC(...)\n",
    "#     2) Training the classifier: clf.fit(X, y)\n",
    "\n",
    "def train_SVM(X, y, kernel='linear'):\n",
    "### BEGIN SOLUTION\n",
    "    clf = SVC(kernel=kernel)\n",
    "    clf.fit(X, y)\n",
    "    \n",
    "    return clf\n",
    "### END SOLUTION"
   ]
  },
  {
   "cell_type": "code",
   "execution_count": null,
   "metadata": {
    "nbgrader": {
     "grade": true,
     "grade_id": "A-1i",
     "locked": true,
     "points": 0.5,
     "schema_version": 1,
     "solution": false
    }
   },
   "outputs": [],
   "source": [
    "assert callable(train_SVM)\n",
    "\n",
    "### BEGIN HIDDEN TESTS\n",
    "rand_X = np.random.randn(5, 2)\n",
    "rand_y = np.array([1, 0, 1, 0, 0])\n",
    "clf = train_SVM(rand_X, rand_y)\n",
    "assert hasattr(clf, 'predict')\n",
    "### END HIDDEN TESTS"
   ]
  },
  {
   "cell_type": "code",
   "execution_count": null,
   "metadata": {
    "nbgrader": {
     "grade": false,
     "grade_id": "Q-ij",
     "locked": false,
     "schema_version": 1,
     "solution": true
    }
   },
   "outputs": [],
   "source": [
    "# 1j) Train an SVM classifier on the samples \"MR_train_X\" and the labels \"MR_train_y\"\n",
    "#  You need to call the function \"train_SVM\" you just created.\n",
    "#  Name the returned object as \"MR_clf\"\n",
    "#  Note that running this function may take many seconds / up to a few minutes to run.\n",
    "\n",
    "### BEGIN SOLUTION\n",
    "MR_clf = train_SVM(MR_train_X, MR_train_y)\n",
    "### END SOLUTION"
   ]
  },
  {
   "cell_type": "code",
   "execution_count": null,
   "metadata": {
    "nbgrader": {
     "grade": true,
     "grade_id": "A-ij",
     "locked": true,
     "points": 0.5,
     "schema_version": 1,
     "solution": false
    }
   },
   "outputs": [],
   "source": [
    "assert isinstance(MR_clf, SVC)\n",
    "assert hasattr(MR_clf, \"predict\")"
   ]
  },
  {
   "cell_type": "code",
   "execution_count": null,
   "metadata": {
    "nbgrader": {
     "grade": false,
     "grade_id": "Q-k",
     "locked": false,
     "schema_version": 1,
     "solution": true
    },
    "scrolled": true
   },
   "outputs": [],
   "source": [
    "# 1k) predict labels for both training samples and test samples\n",
    "# You will need to use \n",
    "#    MR_clf.predict(...)\n",
    "\n",
    "# Name the predicted labels for the training samples as \"MR_predicted_train_y\"\n",
    "# Name the predicted labels for the testing samples as \"MR_predicted_test_y\" \n",
    "\n",
    "### BEGIN SOLUTION\n",
    "MR_predicted_train_y = MR_clf.predict(MR_train_X)\n",
    "MR_predicted_test_y = MR_clf.predict(MR_test_X)\n",
    "### END SOLUTION"
   ]
  },
  {
   "cell_type": "code",
   "execution_count": null,
   "metadata": {
    "nbgrader": {
     "grade": false,
     "grade_id": "cell-fc5799e344e24b69",
     "locked": true,
     "schema_version": 1,
     "solution": false
    }
   },
   "outputs": [],
   "source": [
    "# Now we will use the function 'classification_report'\n",
    "#  to print out the performance of the classifier on the training set\n",
    "\n",
    "# Your classifier should be able to reach above 90% accuracy on the training set\n",
    "print(classification_report(MR_train_y,MR_predicted_train_y))"
   ]
  },
  {
   "cell_type": "code",
   "execution_count": null,
   "metadata": {
    "nbgrader": {
     "grade": true,
     "grade_id": "A-1k",
     "locked": true,
     "points": 0.5,
     "schema_version": 1,
     "solution": false
    }
   },
   "outputs": [],
   "source": [
    "# Tests for 1k\n",
    "assert MR_predicted_train_y.shape == (4000,)\n",
    "assert MR_predicted_test_y.shape == (1000,)\n",
    "\n",
    "precision, recall, _, _ = precision_recall_fscore_support(MR_train_y,MR_predicted_train_y)\n",
    "assert np.isclose(precision[0], 0.91, 0.02)\n",
    "assert np.isclose(precision[1], 0.92, 0.02)\n",
    "\n",
    "### BEGIN HIDDEN TESTS\n",
    "precision, recall, _, _ = precision_recall_fscore_support(MR_test_y,MR_predicted_test_y)\n",
    "assert np.isclose(precision[0], 0.70, 0.02)\n",
    "assert np.isclose(precision[1], 0.71, 0.02)\n",
    "### END HIDDEN TESTS"
   ]
  },
  {
   "cell_type": "code",
   "execution_count": null,
   "metadata": {
    "nbgrader": {
     "grade": false,
     "grade_id": "cell-9fc925527bb32076",
     "locked": true,
     "schema_version": 1,
     "solution": false
    }
   },
   "outputs": [],
   "source": [
    "# And finally, we check the performance of the trained classifier on the test set\n",
    "\n",
    "# Your classifier should be able to reach around 70% accuracy on the test set.\n",
    "print(classification_report(MR_test_y, MR_predicted_test_y))"
   ]
  },
  {
   "cell_type": "markdown",
   "metadata": {
    "nbgrader": {
     "grade": false,
     "grade_id": "cell-1f649bb709859c3e",
     "locked": true,
     "schema_version": 1,
     "solution": false
    }
   },
   "source": [
    "# Part 2: TF-IDF\n",
    "\n",
    "In this part, we will explore TF-IDF on sentiment analysis.\n",
    "\n",
    "TF-IDF is used as an alternate way to encode text data, as compared to the BoW's approach used in Part 1. \n",
    "\n",
    "To do, we will:\n",
    "- Transform the raw text data into vectors using TF-IDF\n",
    "- Train an SVM classifier on the training set and report the performance this classifer on the test set"
   ]
  },
  {
   "cell_type": "code",
   "execution_count": null,
   "metadata": {
    "nbgrader": {
     "grade": false,
     "grade_id": "Q-2a",
     "locked": false,
     "schema_version": 1,
     "solution": true
    }
   },
   "outputs": [],
   "source": [
    "# 2a) We will create a \"TfidfVectorizer\" object to transform the text data into vectors with TF-IDF\n",
    "#\n",
    "# To do so, we will initialize a \"TfidfVectorizer\" object, and name it as \"tfidf\".\n",
    "#\n",
    "# We need to pass 4 arguments into the \"TfidfVectorizer\" to initialize a \"tfidf\":\n",
    "#   1. sublinear_tf: True\n",
    "#        Set to apply TF scaling.\n",
    "#   2. analyzer: 'word'\n",
    "#        Set to analyze the data at the word-level\n",
    "#   3. max_features: 2000\n",
    "#        Set the max number of unique words\n",
    "#   4. tokenizer: word_tokenize\n",
    "#        Set to tokenize the text data by using the word_tokenizer from NLTK \n",
    "\n",
    "### BEGIN SOLUTION\n",
    "tfidf = TfidfVectorizer(sublinear_tf=True,\n",
    "                        analyzer='word',\n",
    "                        max_features=2000,\n",
    "                        tokenizer=word_tokenize)\n",
    "### END SOLUTION"
   ]
  },
  {
   "cell_type": "code",
   "execution_count": null,
   "metadata": {
    "nbgrader": {
     "grade": true,
     "grade_id": "A-2a",
     "locked": true,
     "points": 0.5,
     "schema_version": 1,
     "solution": false
    }
   },
   "outputs": [],
   "source": [
    "assert tfidf.analyzer == 'word'\n",
    "assert tfidf.max_features == 2000\n",
    "assert tfidf.tokenizer == word_tokenize\n",
    "assert tfidf.stop_words == None\n",
    "assert hasattr(vectorizer, \"fit_transform\")"
   ]
  },
  {
   "cell_type": "code",
   "execution_count": null,
   "metadata": {
    "nbgrader": {
     "grade": false,
     "grade_id": "Q-2b",
     "locked": false,
     "schema_version": 1,
     "solution": true
    }
   },
   "outputs": [],
   "source": [
    "# 2b) Transform Reviews \n",
    "# Transform the 'review' column of MR_df into vectors using the \"tfidf\" we created above.\n",
    "#   Save the transformed data into a variable called \"MR_tfidf_X\"\n",
    "# Hint: You might need to cast the datatype of \"MR_tfidf_X\" to numpy.ndarray by using .toarray()\n",
    "\n",
    "### BEGIN SOLUTION\n",
    "MR_tfidf_X = tfidf.fit_transform(MR_df['review']).toarray()\n",
    "### END SOLUTION"
   ]
  },
  {
   "cell_type": "code",
   "execution_count": null,
   "metadata": {
    "nbgrader": {
     "grade": true,
     "grade_id": "A-2b",
     "locked": true,
     "points": 0.5,
     "schema_version": 1,
     "solution": false
    }
   },
   "outputs": [],
   "source": [
    "assert isinstance(MR_tfidf_X, np.ndarray)\n",
    "\n",
    "assert \"skills\" in set(tfidf.stop_words_)\n",
    "assert \"risky\" in set(tfidf.stop_words_)\n",
    "assert \"adopts\" in set(tfidf.stop_words_)\n",
    "\n",
    "### BEGIN HIDDEN TESTS\n",
    "assert len(tfidf.stop_words_) >= 10000\n",
    "### END HIDDEN TESTS"
   ]
  },
  {
   "cell_type": "code",
   "execution_count": null,
   "metadata": {
    "nbgrader": {
     "grade": false,
     "grade_id": "Q-2c",
     "locked": false,
     "schema_version": 1,
     "solution": true
    }
   },
   "outputs": [],
   "source": [
    "# 2c) Split the \"MR_tfidf_X\" and \"MR_y\" into training set and test set. \n",
    "#  Name these variables as:\n",
    "#    \"MR_train_tfidf_X\" and \"MR_train_tfidf_y\" for the training set\n",
    "#    \"MR_test_tfidf_X\" and \"MR_test_tfidf_y\" for the test set\n",
    "#  We will use the same 80/20 split as in part 1. \n",
    "#    You can use the same 'num_training' variable from part 1 to split up the data.\n",
    "\n",
    "### BEGIN SOLUTION\n",
    "MR_train_tfidf_X = MR_tfidf_X[:num_training]\n",
    "MR_train_tfidf_y = MR_y[:num_training]\n",
    "MR_test_tfidf_X = MR_tfidf_X[num_training:]\n",
    "MR_test_tfidf_y = MR_y[num_training:]\n",
    "### END SOLUTION"
   ]
  },
  {
   "cell_type": "code",
   "execution_count": null,
   "metadata": {
    "nbgrader": {
     "grade": true,
     "grade_id": "A-2c",
     "locked": true,
     "points": 0.5,
     "schema_version": 1,
     "solution": false
    }
   },
   "outputs": [],
   "source": [
    "assert MR_train_tfidf_X[0].tolist() == MR_tfidf_X[0].tolist()\n",
    "assert MR_train_tfidf_X.shape == (4000, 2000)\n",
    "assert MR_test_tfidf_X.shape == (1000, 2000)"
   ]
  },
  {
   "cell_type": "code",
   "execution_count": null,
   "metadata": {
    "nbgrader": {
     "grade": false,
     "grade_id": "Q-2d",
     "locked": false,
     "schema_version": 1,
     "solution": true
    }
   },
   "outputs": [],
   "source": [
    "# 2d) Train an SVM classifier on the samples \"MR_train_tfidf_X\" and the labels \"MR_train_y\"\n",
    "#   You need to call the function \"train_SVM\" you created in part 1.\n",
    "#   Name the returned object as \"MR_tfidf_clf\".\n",
    "#   Note that this may take many seconds, up to a few minutes, to run.\n",
    "\n",
    "### BEGIN SOLUTION\n",
    "MR_tfidf_clf = train_SVM(MR_train_tfidf_X, MR_train_tfidf_y)\n",
    "### END SOLUTION"
   ]
  },
  {
   "cell_type": "code",
   "execution_count": null,
   "metadata": {
    "nbgrader": {
     "grade": true,
     "grade_id": "A-2d",
     "locked": true,
     "points": 0.5,
     "schema_version": 1,
     "solution": false
    }
   },
   "outputs": [],
   "source": [
    "assert isinstance(MR_clf, SVC)\n",
    "assert hasattr(MR_tfidf_clf, \"predict\")"
   ]
  },
  {
   "cell_type": "code",
   "execution_count": null,
   "metadata": {
    "nbgrader": {
     "grade": false,
     "grade_id": "Q-2e",
     "locked": false,
     "schema_version": 1,
     "solution": true
    }
   },
   "outputs": [],
   "source": [
    "# 2e) Predict the labels for both the training and test samples (the 'X' data)\n",
    "# You will need to use \n",
    "#    MR_tfidf_clf.predict(...)\n",
    "\n",
    "# Name the predicted labels on training samples as \"MR_pred_train_tfidf_y\"\n",
    "# Name the predicted labels on testing samples as \"MR_pred_test_tfidf_y\" \n",
    "\n",
    "### BEGIN SOLUTION\n",
    "MR_pred_train_tfidf_y = MR_tfidf_clf.predict(MR_train_tfidf_X)\n",
    "MR_pred_test_tfidf_y = MR_tfidf_clf.predict(MR_test_tfidf_X)\n",
    "### END SOLUTION"
   ]
  },
  {
   "cell_type": "code",
   "execution_count": null,
   "metadata": {
    "nbgrader": {
     "grade": false,
     "grade_id": "cell-afa1a0e6e8f72a98",
     "locked": true,
     "schema_version": 1,
     "solution": false
    }
   },
   "outputs": [],
   "source": [
    "# Again, we use 'classification_report' to check the performance on the training set \n",
    "\n",
    "# Your classifier should be able to reach above 85% accuracy.\n",
    "print(classification_report(MR_train_tfidf_y, MR_pred_train_tfidf_y))"
   ]
  },
  {
   "cell_type": "code",
   "execution_count": null,
   "metadata": {
    "nbgrader": {
     "grade": true,
     "grade_id": "A-2e",
     "locked": true,
     "points": 0.5,
     "schema_version": 1,
     "solution": false
    }
   },
   "outputs": [],
   "source": [
    "# Tests for 2e\n",
    "precision, recall, _, _ = precision_recall_fscore_support(MR_train_tfidf_y, MR_pred_train_tfidf_y)\n",
    "assert np.isclose(precision[0], 0.86, 0.02)\n",
    "assert np.isclose(precision[1], 0.87, 0.02)\n",
    "\n",
    "### BEGIN HIDDEN TESTS\n",
    "precision, recall, _, _ = precision_recall_fscore_support(MR_test_tfidf_y, MR_pred_test_tfidf_y)\n",
    "assert np.isclose(precision[0], 0.72, 0.02)\n",
    "assert np.isclose(precision[1], 0.74, 0.02)\n",
    "### END HIDDEN TESTS"
   ]
  },
  {
   "cell_type": "code",
   "execution_count": null,
   "metadata": {
    "nbgrader": {
     "grade": false,
     "grade_id": "cell-0d6895d998434cbe",
     "locked": true,
     "schema_version": 1,
     "solution": false
    }
   },
   "outputs": [],
   "source": [
    "# And check performance on the test set\n",
    "\n",
    "# Your classifier should be able to reach around 70% accuracy.\n",
    "print(classification_report(MR_test_tfidf_y, MR_pred_test_tfidf_y))"
   ]
  },
  {
   "cell_type": "markdown",
   "metadata": {
    "nbgrader": {
     "grade": false,
     "grade_id": "cell-29e222dd4865bd30",
     "locked": true,
     "schema_version": 1,
     "solution": false
    }
   },
   "source": [
    "### Written Answer Question\n",
    "\n",
    "How does the performance of the TF-IDF classifier compare to the classifier used in part 1?"
   ]
  },
  {
   "cell_type": "markdown",
   "metadata": {
    "nbgrader": {
     "grade": true,
     "grade_id": "cell-ac993b2591707522",
     "locked": false,
     "points": 0,
     "schema_version": 1,
     "solution": true
    }
   },
   "source": [
    "YOUR ANSWER HERE"
   ]
  },
  {
   "cell_type": "markdown",
   "metadata": {
    "nbgrader": {
     "grade": false,
     "grade_id": "cell-15bf17c90c32702a",
     "locked": true,
     "schema_version": 1,
     "solution": false
    }
   },
   "source": [
    "# Part 3: Sentiment Analysis on Customer Review with TF-IDF\n",
    "\n",
    "In this part, we will use TF-IDF to analyse the sentiment of some Customer Review (CR) data.\n",
    "\n",
    "The CR data contains around 3771 reviews, and they were all collected from the Amazon website. The reviews are annotated by human as either positive reviews and negative reviews. In this dataset, the 2 classes are not balanced, as there are twice as many positive reviews as negative reviews.\n",
    "\n",
    "For more information on this dataset, you can visit https://www.cs.uic.edu/~liub/FBS/sentiment-analysis.html\n",
    "\n",
    "In this part, we have alreay split the data into a training set and a test set, in which the training set has labels for the reviews, but the test set doesn't. \n",
    "\n",
    "The goal is to train an SVM classifier on the training set, and then predict pos/neg for each review in the test set.\n",
    "\n",
    "To do so, we will:\n",
    "- Use the TF-IDF feature engineering method to encode the raw text data into vectors\n",
    "- Train an SVM classifier on the training set\n",
    "- Predict labels for the reviews in the test set\n",
    "\n",
    "The performance of your trained classifier on the test set will be checked by a hidden test."
   ]
  },
  {
   "cell_type": "code",
   "execution_count": null,
   "metadata": {
    "nbgrader": {
     "grade": false,
     "grade_id": "Q-3a",
     "locked": false,
     "schema_version": 1,
     "solution": true
    }
   },
   "outputs": [],
   "source": [
    "# 3a) Loading the data\n",
    "\n",
    "# Customer review task has 2 files\n",
    "#  \"data/custrev.tsv\" contains training data with labels\n",
    "#  \"data/custrev.tsv\" contains test data without labels which need to be predicted \n",
    "# Import raw textfile 'data/custrev.train' into a DataFrame called CR_train_df,\n",
    "#   Set the column names as 'index', 'label', 'review'\n",
    "# Import raw textfile 'data/custrev.test' into a DataFrame called CR_test_df,\n",
    "#   Set the column names as 'index', 'review'\n",
    "# Note that both will need to be imported with 'sep' and 'header' arguments (like in 1a)\n",
    "\n",
    "CR_train_file='data/custrev_train.tsv'\n",
    "CR_test_file = 'data/custrev_test.tsv'\n",
    "\n",
    "### BEGIN SOLUTION\n",
    "CR_train_df = pd.read_csv(CR_train_file, sep=\"\\t\", header=None)\n",
    "CR_train_df.columns = ['index', 'label', 'review']\n",
    "CR_test_df = pd.read_csv(CR_test_file, sep=\"\\t\", header=None)\n",
    "CR_test_df.columns = ['index', 'review']\n",
    "### END SOLUTION"
   ]
  },
  {
   "cell_type": "code",
   "execution_count": null,
   "metadata": {
    "nbgrader": {
     "grade": true,
     "grade_id": "A-3a",
     "locked": true,
     "points": 0.5,
     "schema_version": 1,
     "solution": false
    }
   },
   "outputs": [],
   "source": [
    "assert isinstance(CR_train_df, pd.DataFrame)\n",
    "assert isinstance(CR_test_df, pd.DataFrame)"
   ]
  },
  {
   "cell_type": "code",
   "execution_count": null,
   "metadata": {
    "nbgrader": {
     "grade": false,
     "grade_id": "Q-3b",
     "locked": false,
     "schema_version": 1,
     "solution": true
    }
   },
   "outputs": [],
   "source": [
    "# 3b) Concatenate 2 DataFrames into 1 DataFrame, and name it \"CR_df\"\n",
    "\n",
    "### BEGIN SOLUTION\n",
    "CR_df = pd.concat([CR_train_df, CR_test_df])\n",
    "### END SOLUTION"
   ]
  },
  {
   "cell_type": "code",
   "execution_count": null,
   "metadata": {
    "nbgrader": {
     "grade": true,
     "grade_id": "A-3b",
     "locked": true,
     "points": 0.5,
     "schema_version": 1,
     "solution": false
    }
   },
   "outputs": [],
   "source": [
    "assert len(CR_df) == 3771\n",
    "\n",
    "### BEGIN HIDDEN TESTS\n",
    "assert sum(CR_df['label'].isnull()) == 755\n",
    "### END HIDDEN TESTS"
   ]
  },
  {
   "cell_type": "code",
   "execution_count": null,
   "metadata": {
    "nbgrader": {
     "grade": false,
     "grade_id": "Q-3c",
     "locked": false,
     "schema_version": 1,
     "solution": true
    }
   },
   "outputs": [],
   "source": [
    "# 3c) Convert all labels in CR_df[\"label\"] using the function we defined above \"convert_label\"\n",
    "#   Save these numerical labels as a new column named \"y\" in CR_df.\n",
    "\n",
    "### BEGIN SOLUTION\n",
    "CR_df['y'] = CR_df['label'].apply(convert_label)\n",
    "### END SOLUTION"
   ]
  },
  {
   "cell_type": "code",
   "execution_count": null,
   "metadata": {
    "nbgrader": {
     "grade": true,
     "grade_id": "A-3c",
     "locked": true,
     "points": 0.5,
     "schema_version": 1,
     "solution": false
    }
   },
   "outputs": [],
   "source": [
    "assert isinstance(CR_df['y'], pd.Series)"
   ]
  },
  {
   "cell_type": "code",
   "execution_count": null,
   "metadata": {
    "nbgrader": {
     "grade": false,
     "grade_id": "Q-3d",
     "locked": false,
     "schema_version": 1,
     "solution": true
    }
   },
   "outputs": [],
   "source": [
    "# 3d) Transform reviews (CR_df[\"review\"]) into vectors using the \"tfidf\" vectorizer we created in part 2.\n",
    "#  Save the transformed data into a variable called \"CR_tfidf_X\"\n",
    "\n",
    "### BEGIN SOLUTION\n",
    "CR_tfidf_X = tfidf.fit_transform(CR_df['review']).toarray()\n",
    "### END SOLUTION"
   ]
  },
  {
   "cell_type": "code",
   "execution_count": null,
   "metadata": {
    "nbgrader": {
     "grade": true,
     "grade_id": "A-3d",
     "locked": true,
     "points": 0.5,
     "schema_version": 1,
     "solution": false
    }
   },
   "outputs": [],
   "source": [
    "assert isinstance(CR_tfidf_X, np.ndarray)\n",
    "\n",
    "### BEGIN HIDDEN TESTS\n",
    "assert CR_tfidf_X.shape == (3771, 2000)\n",
    "### END HIDDEN TESTS"
   ]
  },
  {
   "cell_type": "code",
   "execution_count": null,
   "metadata": {
    "nbgrader": {
     "grade": false,
     "grade_id": "get_data",
     "locked": true,
     "schema_version": 1,
     "solution": false
    }
   },
   "outputs": [],
   "source": [
    "# Here we will collect all training samples & numerical labels from CR_tfidf_X [code provided]\n",
    "#   The code provided below will extract all samples with labels from the dataframe\n",
    "\n",
    "CR_train_X = CR_tfidf_X[~CR_df['y'].isnull()]\n",
    "CR_train_y = CR_df['y'][~CR_df['y'].isnull()]\n",
    "\n",
    "# Note: if these asserts fail, something went wrong\n",
    "#  Go back and check your code (in part 3) above this cell\n",
    "assert CR_train_X.shape == (3016, 2000)\n",
    "assert CR_train_y.shape == (3016, )"
   ]
  },
  {
   "cell_type": "code",
   "execution_count": null,
   "metadata": {
    "nbgrader": {
     "grade": false,
     "grade_id": "Q-3e",
     "locked": false,
     "schema_version": 1,
     "solution": true
    },
    "scrolled": true
   },
   "outputs": [],
   "source": [
    "# 3e) Train an SVM classifier on the samples \"CR_train_X\" and the labels \"CR_train_y\"\n",
    "#   You need to call the function \"train_SVM\" you created above.\n",
    "#   Name the returned object as \"CR_clf\"\n",
    "#   Note that this function will take many seconds / up to a few minutes to run.\n",
    "\n",
    "### BEGIN SOLUTION\n",
    "CR_clf = train_SVM(CR_train_X,  CR_train_y)\n",
    "### END SOLUTION"
   ]
  },
  {
   "cell_type": "code",
   "execution_count": null,
   "metadata": {
    "nbgrader": {
     "grade": true,
     "grade_id": "A-3e",
     "locked": true,
     "points": 0.5,
     "schema_version": 1,
     "solution": false
    }
   },
   "outputs": [],
   "source": [
    "assert isinstance(CR_clf, SVC)"
   ]
  },
  {
   "cell_type": "code",
   "execution_count": null,
   "metadata": {
    "nbgrader": {
     "grade": false,
     "grade_id": "Q-3f",
     "locked": false,
     "schema_version": 1,
     "solution": true
    }
   },
   "outputs": [],
   "source": [
    "# 3f) Predict labels on the training set, and name the returned variable as \"CR_pred_train_y\"\n",
    "\n",
    "### BEGIN SOLUTION\n",
    "CR_pred_train_y = CR_clf.predict(CR_train_X)\n",
    "### END SOLUTION"
   ]
  },
  {
   "cell_type": "code",
   "execution_count": null,
   "metadata": {
    "nbgrader": {
     "grade": false,
     "grade_id": "cell-5393293deccc9d78",
     "locked": true,
     "schema_version": 1,
     "solution": false
    }
   },
   "outputs": [],
   "source": [
    "# Check the classifier accuracy on the train data\n",
    "#   Note that your classifier should be able to reach above 90% accuracy.\n",
    "print(classification_report(CR_train_y, CR_pred_train_y))"
   ]
  },
  {
   "cell_type": "code",
   "execution_count": null,
   "metadata": {
    "nbgrader": {
     "grade": true,
     "grade_id": "A-3f",
     "locked": true,
     "points": 0.5,
     "schema_version": 1,
     "solution": false
    }
   },
   "outputs": [],
   "source": [
    "# Tests for 3f\n",
    "precision, recall, _, _ = precision_recall_fscore_support(CR_train_y, CR_pred_train_y)\n",
    "assert np.isclose(precision[0], 0.90, 0.02)\n",
    "assert np.isclose(precision[1], 0.91, 0.02)"
   ]
  },
  {
   "cell_type": "code",
   "execution_count": null,
   "metadata": {
    "nbgrader": {
     "grade": false,
     "grade_id": "cell-8fd0d23508a04891",
     "locked": true,
     "schema_version": 1,
     "solution": false
    }
   },
   "outputs": [],
   "source": [
    "# Collect all test samples from CR_tfidf_X\n",
    "CR_test_X = CR_tfidf_X[CR_df['y'].isnull()]"
   ]
  },
  {
   "cell_type": "code",
   "execution_count": null,
   "metadata": {
    "nbgrader": {
     "grade": false,
     "grade_id": "Q-3g",
     "locked": false,
     "schema_version": 1,
     "solution": true
    }
   },
   "outputs": [],
   "source": [
    "# 3g) Predict the labels on the test set. \n",
    "#  Name the returned variable as \"CR_pred_test_y\"\n",
    "\n",
    "### BEGIN SOLUTION\n",
    "CR_pred_test_y = CR_clf.predict(CR_test_X)\n",
    "### END SOLUTION"
   ]
  },
  {
   "cell_type": "code",
   "execution_count": null,
   "metadata": {
    "nbgrader": {
     "grade": true,
     "grade_id": "A-3g",
     "locked": true,
     "points": 0.5,
     "schema_version": 1,
     "solution": false
    }
   },
   "outputs": [],
   "source": [
    "assert isinstance(CR_test_X, np.ndarray)\n",
    "assert isinstance(CR_pred_test_y, np.ndarray)"
   ]
  },
  {
   "cell_type": "code",
   "execution_count": null,
   "metadata": {
    "nbgrader": {
     "grade": false,
     "grade_id": "Q-3h",
     "locked": false,
     "schema_version": 1,
     "solution": true
    }
   },
   "outputs": [],
   "source": [
    "# 3h) Convert the predicted numerical labels back to string labels\n",
    "# Create a column called \"label\" in \"CR_test_df\" to store the converted labels\n",
    "\n",
    "### BEGIN SOLUTION\n",
    "CR_pred_test_labels = [\"pos\" if label == 1. else \"neg\" for label in CR_pred_test_y]\n",
    "CR_test_df['label'] = CR_pred_test_labels\n",
    "### END SOLUTION"
   ]
  },
  {
   "cell_type": "code",
   "execution_count": null,
   "metadata": {
    "nbgrader": {
     "grade": true,
     "grade_id": "A-3h",
     "locked": true,
     "points": 0.5,
     "schema_version": 1,
     "solution": false
    }
   },
   "outputs": [],
   "source": [
    "assert isinstance(CR_test_df['label'], pd.Series)\n",
    "assert set(CR_test_df['label']) == {'neg', 'pos'}\n",
    "\n",
    "### BEGIN HIDDEN TESTS\n",
    "assert np.isclose(CR_test_df['label'].value_counts()['pos'], 512, 5)\n",
    "assert np.isclose(CR_test_df['label'].value_counts()['neg'], 243, 5)\n",
    "### END HIDDEN TESTS"
   ]
  },
  {
   "cell_type": "markdown",
   "metadata": {
    "nbgrader": {
     "grade": false,
     "grade_id": "cell-24356cb4367a5c1b",
     "locked": true,
     "schema_version": 1,
     "solution": false
    }
   },
   "source": [
    "The hidden assignments tests for the cell above will check that your model predicts the right number of pos/neg reviews in the test data provided. \n",
    "\n",
    "We now have a model that can predict positive or negative sentiment! \n",
    "\n",
    "In the cell below, as a written answer question, briefly, in your own words, what BoW and TF/IDF word representations are, and how they differ. Also, think about and write a quick example of when and why it might be useful to automatically analyze the sentiment of text data. [This whole answer can/should be a couple sentences].\n",
    "\n",
    "After you answer this question, you arae done! Submit this notebook by uploading it to TritonED. "
   ]
  },
  {
   "cell_type": "markdown",
   "metadata": {
    "nbgrader": {
     "grade": true,
     "grade_id": "cell-bf8fe759022c76b4",
     "locked": false,
     "points": 0,
     "schema_version": 1,
     "solution": true
    }
   },
   "source": [
    "YOUR ANSWER HERE"
   ]
  }
 ],
 "metadata": {
  "celltoolbar": "Create Assignment",
  "kernelspec": {
   "display_name": "Python 3",
   "language": "python",
   "name": "python3"
  },
  "language_info": {
   "codemirror_mode": {
    "name": "ipython",
    "version": 3
   },
   "file_extension": ".py",
   "mimetype": "text/x-python",
   "name": "python",
   "nbconvert_exporter": "python",
   "pygments_lexer": "ipython3",
   "version": "3.6.4"
  }
 },
 "nbformat": 4,
 "nbformat_minor": 2
}
